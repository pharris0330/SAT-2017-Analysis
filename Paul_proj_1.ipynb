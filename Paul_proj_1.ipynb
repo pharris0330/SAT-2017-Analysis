{
 "cells": [
  {
   "cell_type": "code",
   "execution_count": null,
   "id": "bcb8886a-a1c8-4920-81a8-00562e5c9713",
   "metadata": {
    "tags": []
   },
   "outputs": [],
   "source": [
    "def vaporcode(s):\n",
    "    for i in range(0,len(s)):\n",
    "        vapor = []\n",
    "        if s[i].isalpha() is True:\n",
    "            vapor.append(s[i]) \n",
    "            print(list(vapor))"
   ]
  },
  {
   "cell_type": "code",
   "execution_count": null,
   "id": "689027fb-0777-4a15-b015-538d21319d7f",
   "metadata": {
    "tags": []
   },
   "outputs": [],
   "source": [
    "def vaporcode(s):\n",
    "    s = s.upper().replace(' ','').replace('','  ')\n",
    "    print(s)"
   ]
  },
  {
   "cell_type": "code",
   "execution_count": null,
   "id": "1301da52-8acc-4a24-a3a6-7f6f194e241e",
   "metadata": {
    "tags": []
   },
   "outputs": [],
   "source": [
    "vaporcode(s)"
   ]
  },
  {
   "cell_type": "code",
   "execution_count": null,
   "id": "4fbea793-46a8-4fb2-970f-f3949f5876e5",
   "metadata": {
    "tags": []
   },
   "outputs": [],
   "source": [
    "txt[-1::-1]"
   ]
  },
  {
   "cell_type": "code",
   "execution_count": null,
   "id": "0c680e7c-bf59-4629-9b6f-0c501cd67b6a",
   "metadata": {},
   "outputs": [],
   "source": [
    "import pandas as pd\n",
    "import numpy as np"
   ]
  },
  {
   "cell_type": "code",
   "execution_count": null,
   "id": "6c590488-0ba3-4345-90a4-c781c3dc6172",
   "metadata": {},
   "outputs": [],
   "source": [
    "df = pd.read_csv('./Census-data/2017_employment.csv')"
   ]
  },
  {
   "cell_type": "code",
   "execution_count": null,
   "id": "4785a4df-bca0-46aa-9f83-b3475e5211eb",
   "metadata": {},
   "outputs": [],
   "source": [
    "df.shape"
   ]
  },
  {
   "cell_type": "code",
   "execution_count": null,
   "id": "deec3a7e-0580-4884-90e7-203032ba6c1a",
   "metadata": {},
   "outputs": [],
   "source": [
    "#finding where DC located\n",
    "last_n_column  = df.iloc[5:10,25:40]\n",
    "last_n_column.head()"
   ]
  },
  {
   "cell_type": "code",
   "execution_count": null,
   "id": "82598f69-0cf6-41d4-8f18-cf9b21f1c505",
   "metadata": {},
   "outputs": [],
   "source": [
    "df_t = df.T"
   ]
  },
  {
   "cell_type": "code",
   "execution_count": null,
   "id": "a7564f98-015b-4261-8fa3-1aa2e23f40a7",
   "metadata": {
    "tags": []
   },
   "outputs": [],
   "source": [
    "#Utilized percent convert on other project code to obtain SAT participation data\n",
    "test=df_T.map(percent_convert)"
   ]
  },
  {
   "cell_type": "code",
   "execution_count": null,
   "id": "537ae7be-e8b7-4f6b-a136-0fd72b1c2bff",
   "metadata": {},
   "outputs": [],
   "source": [
    "df_unemployment = df_t[9]"
   ]
  },
  {
   "cell_type": "code",
   "execution_count": null,
   "id": "68d10a30-8769-4f67-9533-81b5ac74999a",
   "metadata": {},
   "outputs": [],
   "source": [
    "df_unemployment.head()"
   ]
  },
  {
   "cell_type": "code",
   "execution_count": null,
   "id": "30af12ec-1b5f-4437-b19f-353299f2f6c3",
   "metadata": {},
   "outputs": [],
   "source": [
    "\n",
    "def employ(df):\n",
    "    strings = []\n",
    "    for i in range(209):\n",
    "        if df_unemployment[i][-1] in '%':\n",
    "            strings.append(df_unemployment[i])\n",
    "    return(strings)\n",
    "            \n",
    "employ(df_unemployment)\n",
    "        "
   ]
  },
  {
   "cell_type": "code",
   "execution_count": null,
   "id": "6cb30994-32b8-4519-92fd-328f9a88a453",
   "metadata": {},
   "outputs": [],
   "source": [
    "#convert new unemployment column to integer\n",
    "df_unemployment_new = df_unemployment.apply(employ)\n"
   ]
  },
  {
   "cell_type": "code",
   "execution_count": null,
   "id": "6e856187-c2ae-4043-bde8-c4f84b6b064d",
   "metadata": {},
   "outputs": [],
   "source": [
    "# determining length of column to find if PR is included\n",
    "len(df_unemployment_new[1])"
   ]
  },
  {
   "cell_type": "code",
   "execution_count": null,
   "id": "9c7e0fd2-8a1c-44ae-9300-952e04a3b0b0",
   "metadata": {},
   "outputs": [],
   "source": [
    "#Turn the list into an array\n",
    "df_unemployment_array = np.array(df_unemployment_new)"
   ]
  },
  {
   "cell_type": "code",
   "execution_count": null,
   "id": "9f356233-2486-4a93-bd2f-f4a570933111",
   "metadata": {},
   "outputs": [],
   "source": [
    "df_unemployment_array"
   ]
  },
  {
   "cell_type": "code",
   "execution_count": null,
   "id": "fb48e091-b1ea-4238-bd42-3c1dc9318a09",
   "metadata": {},
   "outputs": [],
   "source": [
    "#creating function to remove percent sign\n",
    "def percent_convert(num):\n",
    "    return float(num.replace('%',''))"
   ]
  },
  {
   "cell_type": "code",
   "execution_count": null,
   "id": "851aacaf-58de-4a54-9353-6f4fe0b7dc93",
   "metadata": {},
   "outputs": [],
   "source": [
    "#Utilizing list comprehension on column to apply percent_convert function\n",
    "df_unemployment_listcomp=[percent_convert(each) for each in df_unemployment_new[1]]\n",
    "df_unemployment_listcomp[10:12]"
   ]
  },
  {
   "cell_type": "code",
   "execution_count": null,
   "id": "add96cc0-ad30-4219-8ed3-900391e7b844",
   "metadata": {},
   "outputs": [],
   "source": [
    "#discovering column number PR is in the orginal dataframe\n",
    "#use this information to eventually drop PR\n",
    "last_n_column  = df.iloc[5:10,25:40]\n",
    "last_n_column.head()"
   ]
  },
  {
   "cell_type": "code",
   "execution_count": 51,
   "id": "61f00596-b713-426e-99d9-d041a2d0c282",
   "metadata": {},
   "outputs": [
    {
     "data": {
      "text/plain": [
       "6.6"
      ]
     },
     "execution_count": 51,
     "metadata": {},
     "output_type": "execute_result"
    }
   ],
   "source": [
    "#find DC and PR row based their listed unemployment rate\n",
    "df_unemployment_listcomp[8]"
   ]
  },
  {
   "cell_type": "code",
   "execution_count": null,
   "id": "77aad3b6-411c-42ce-aff3-4655888c967a",
   "metadata": {},
   "outputs": [],
   "source": [
    "#convert to df b/c I cant drop from a list\n",
    "df_converttodf = pd.DataFrame(df_unemployment_listcomp)"
   ]
  },
  {
   "cell_type": "code",
   "execution_count": 52,
   "id": "d06c6a58-0439-4843-a5d4-af880e774621",
   "metadata": {},
   "outputs": [
    {
     "data": {
      "text/html": [
       "<div>\n",
       "<style scoped>\n",
       "    .dataframe tbody tr th:only-of-type {\n",
       "        vertical-align: middle;\n",
       "    }\n",
       "\n",
       "    .dataframe tbody tr th {\n",
       "        vertical-align: top;\n",
       "    }\n",
       "\n",
       "    .dataframe thead th {\n",
       "        text-align: right;\n",
       "    }\n",
       "</style>\n",
       "<table border=\"1\" class=\"dataframe\">\n",
       "  <thead>\n",
       "    <tr style=\"text-align: right;\">\n",
       "      <th></th>\n",
       "      <th>0</th>\n",
       "    </tr>\n",
       "  </thead>\n",
       "  <tbody>\n",
       "    <tr>\n",
       "      <th>0</th>\n",
       "      <td>5.8</td>\n",
       "    </tr>\n",
       "    <tr>\n",
       "      <th>1</th>\n",
       "      <td>7.6</td>\n",
       "    </tr>\n",
       "    <tr>\n",
       "      <th>2</th>\n",
       "      <td>5.8</td>\n",
       "    </tr>\n",
       "  </tbody>\n",
       "</table>\n",
       "</div>"
      ],
      "text/plain": [
       "     0\n",
       "0  5.8\n",
       "1  7.6\n",
       "2  5.8"
      ]
     },
     "execution_count": 52,
     "metadata": {},
     "output_type": "execute_result"
    }
   ],
   "source": [
    "df_converttodf.head(3)"
   ]
  },
  {
   "cell_type": "code",
   "execution_count": null,
   "id": "f0ccfa6a-d1e9-4810-9851-d27354cb5296",
   "metadata": {},
   "outputs": [],
   "source": [
    "#drop PR\n",
    "df_noPR = df_converttodf.drop(51)"
   ]
  },
  {
   "cell_type": "code",
   "execution_count": null,
   "id": "438168b6-8a70-40fb-b62f-2207f93c539a",
   "metadata": {},
   "outputs": [],
   "source": [
    "#Check length to confirm PR removed\n",
    "\n",
    "len(df_noPR)"
   ]
  },
  {
   "cell_type": "code",
   "execution_count": null,
   "id": "1fc88d5d-0428-4578-9aa1-04fc7a7585d0",
   "metadata": {},
   "outputs": [],
   "source": [
    "#Read enrollment data\n",
    "enrollment_2017 = pd.read_csv('./Census-data/2017_enrollment_2.csv')\n",
    "\n",
    "#export enrollment data\n",
    "enrollment_2017.to_csv(\"./data/enrollment_2017.csv\", index=False)"
   ]
  },
  {
   "cell_type": "code",
   "execution_count": null,
   "id": "ce7fec39-0046-4dfa-a2b9-9f022ad9df23",
   "metadata": {},
   "outputs": [],
   "source": [
    "#export data with index = false\n",
    "df_noPR.to_csv(\"./data/noPR.csv\", index=False)\n",
    "noPR = pd.read_csv(\"./data/noPR.csv\")"
   ]
  },
  {
   "cell_type": "code",
   "execution_count": null,
   "id": "18e71d86-62e6-4f86-a47c-4742617dd885",
   "metadata": {},
   "outputs": [],
   "source": [
    "noPR.head()"
   ]
  },
  {
   "cell_type": "code",
   "execution_count": null,
   "id": "b606d934-6371-45ee-8e66-551a9c588d3d",
   "metadata": {},
   "outputs": [],
   "source": [
    "#read 2017 and 2018\n",
    "sat_2017 = pd.read_csv(\"data/sat_2017.csv\")\n",
    "sat_2018 = pd.read_csv(\"data/sat_2018.csv\")"
   ]
  },
  {
   "cell_type": "code",
   "execution_count": null,
   "id": "e41e9fa5-77f5-4992-adbc-6a70bf496545",
   "metadata": {},
   "outputs": [],
   "source": [
    "#read poverty census data\n",
    "poverty_2017 = pd.read_csv('./Census-data/2017_poverty.csv')"
   ]
  },
  {
   "cell_type": "code",
   "execution_count": null,
   "id": "65a19656-2ec0-44e5-abc9-111d5013aec3",
   "metadata": {},
   "outputs": [],
   "source": []
  },
  {
   "cell_type": "code",
   "execution_count": 55,
   "id": "e61da3cb-88c5-482c-ba5b-2b691ef1497c",
   "metadata": {},
   "outputs": [],
   "source": [
    "#read enrollment census data\n",
    "enrollment_2017 = pd.read_csv('./Census-data/2017_enrollment_2.csv')"
   ]
  },
  {
   "cell_type": "code",
   "execution_count": 56,
   "id": "1e707d2e-cee2-4c42-ab3b-4af65b35854e",
   "metadata": {},
   "outputs": [
    {
     "data": {
      "text/html": [
       "<div>\n",
       "<style scoped>\n",
       "    .dataframe tbody tr th:only-of-type {\n",
       "        vertical-align: middle;\n",
       "    }\n",
       "\n",
       "    .dataframe tbody tr th {\n",
       "        vertical-align: top;\n",
       "    }\n",
       "\n",
       "    .dataframe thead th {\n",
       "        text-align: right;\n",
       "    }\n",
       "</style>\n",
       "<table border=\"1\" class=\"dataframe\">\n",
       "  <thead>\n",
       "    <tr style=\"text-align: right;\">\n",
       "      <th></th>\n",
       "      <th>State</th>\n",
       "      <th>Percent_enrollment</th>\n",
       "    </tr>\n",
       "  </thead>\n",
       "  <tbody>\n",
       "    <tr>\n",
       "      <th>0</th>\n",
       "      <td>Alabama</td>\n",
       "      <td>21.7</td>\n",
       "    </tr>\n",
       "    <tr>\n",
       "      <th>1</th>\n",
       "      <td>Alaska</td>\n",
       "      <td>21.7</td>\n",
       "    </tr>\n",
       "    <tr>\n",
       "      <th>2</th>\n",
       "      <td>Arizona</td>\n",
       "      <td>21.8</td>\n",
       "    </tr>\n",
       "    <tr>\n",
       "      <th>3</th>\n",
       "      <td>Arkansas</td>\n",
       "      <td>21.7</td>\n",
       "    </tr>\n",
       "    <tr>\n",
       "      <th>4</th>\n",
       "      <td>California</td>\n",
       "      <td>20.4</td>\n",
       "    </tr>\n",
       "  </tbody>\n",
       "</table>\n",
       "</div>"
      ],
      "text/plain": [
       "        State  Percent_enrollment\n",
       "0     Alabama                21.7\n",
       "1      Alaska                21.7\n",
       "2     Arizona                21.8\n",
       "3    Arkansas                21.7\n",
       "4  California                20.4"
      ]
     },
     "execution_count": 56,
     "metadata": {},
     "output_type": "execute_result"
    }
   ],
   "source": [
    "enrollment_2017.head()"
   ]
  },
  {
   "cell_type": "code",
   "execution_count": null,
   "id": "cc090169-5c85-4bd3-98ae-bede2a12237b",
   "metadata": {},
   "outputs": [],
   "source": [
    "#drop first row\n",
    "poverty_2017 = poverty_2017.drop(0)"
   ]
  },
  {
   "cell_type": "code",
   "execution_count": null,
   "id": "86625944-3ead-4430-8455-25477cf77a0e",
   "metadata": {},
   "outputs": [],
   "source": [
    "poverty_2017.head(3)"
   ]
  },
  {
   "cell_type": "code",
   "execution_count": null,
   "id": "14fff470-e0b6-4d5e-bfe6-50738455b276",
   "metadata": {},
   "outputs": [],
   "source": [
    "#rename poverty columns\n",
    "poverty_2017.rename(columns={\n",
    "    'NAME': 'State_povery', 'S1701_C03_001E':'Percent_poverty'\n",
    "}, inplace=True)"
   ]
  },
  {
   "cell_type": "code",
   "execution_count": null,
   "id": "5d9a1cea-dbb8-41d4-97ae-1d5fd6c0643b",
   "metadata": {},
   "outputs": [],
   "source": [
    "#export data with index = false\n",
    "poverty_2017.to_csv(\"./data/poverty_2017_2.csv\", index=False)\n",
    "poverty_2017_new = pd.read_csv(\"./data/poverty_2017_2.csv\")\n",
    "poverty_2017_new.head()"
   ]
  },
  {
   "cell_type": "code",
   "execution_count": null,
   "id": "e83b8251-7c05-4ca4-bb46-700f2a8b12e7",
   "metadata": {},
   "outputs": [],
   "source": [
    "#Merge 2017 and df_noPR\n",
    "sat_2017_noPR = pd.merge(sat_2017,df_noPR, left_index=True, right_index=True, suffixes=['_2017','_2018'])\n",
    "sat_2017_noPR.head(3)"
   ]
  },
  {
   "cell_type": "code",
   "execution_count": 53,
   "id": "031ee1a5-e91e-4596-8a93-c81edbe9c732",
   "metadata": {},
   "outputs": [
    {
     "data": {
      "text/html": [
       "<div>\n",
       "<style scoped>\n",
       "    .dataframe tbody tr th:only-of-type {\n",
       "        vertical-align: middle;\n",
       "    }\n",
       "\n",
       "    .dataframe tbody tr th {\n",
       "        vertical-align: top;\n",
       "    }\n",
       "\n",
       "    .dataframe thead th {\n",
       "        text-align: right;\n",
       "    }\n",
       "</style>\n",
       "<table border=\"1\" class=\"dataframe\">\n",
       "  <thead>\n",
       "    <tr style=\"text-align: right;\">\n",
       "      <th></th>\n",
       "      <th>State</th>\n",
       "      <th>Participation</th>\n",
       "      <th>Evidence-Based Reading and Writing</th>\n",
       "      <th>Math</th>\n",
       "      <th>Total</th>\n",
       "      <th>0</th>\n",
       "      <th>State_povery</th>\n",
       "      <th>Percent_poverty</th>\n",
       "    </tr>\n",
       "  </thead>\n",
       "  <tbody>\n",
       "    <tr>\n",
       "      <th>0</th>\n",
       "      <td>Alabama</td>\n",
       "      <td>5%</td>\n",
       "      <td>593</td>\n",
       "      <td>572</td>\n",
       "      <td>1165</td>\n",
       "      <td>5.8</td>\n",
       "      <td>Alabama</td>\n",
       "      <td>16.9</td>\n",
       "    </tr>\n",
       "    <tr>\n",
       "      <th>1</th>\n",
       "      <td>Alaska</td>\n",
       "      <td>38%</td>\n",
       "      <td>547</td>\n",
       "      <td>533</td>\n",
       "      <td>1080</td>\n",
       "      <td>7.6</td>\n",
       "      <td>Alaska</td>\n",
       "      <td>11.1</td>\n",
       "    </tr>\n",
       "    <tr>\n",
       "      <th>2</th>\n",
       "      <td>Arizona</td>\n",
       "      <td>30%</td>\n",
       "      <td>563</td>\n",
       "      <td>553</td>\n",
       "      <td>1116</td>\n",
       "      <td>5.8</td>\n",
       "      <td>Arizona</td>\n",
       "      <td>14.9</td>\n",
       "    </tr>\n",
       "  </tbody>\n",
       "</table>\n",
       "</div>"
      ],
      "text/plain": [
       "     State Participation  Evidence-Based Reading and Writing  Math  Total  \\\n",
       "0  Alabama            5%                                 593   572   1165   \n",
       "1   Alaska           38%                                 547   533   1080   \n",
       "2  Arizona           30%                                 563   553   1116   \n",
       "\n",
       "     0 State_povery  Percent_poverty  \n",
       "0  5.8      Alabama             16.9  \n",
       "1  7.6       Alaska             11.1  \n",
       "2  5.8      Arizona             14.9  "
      ]
     },
     "execution_count": 53,
     "metadata": {},
     "output_type": "execute_result"
    }
   ],
   "source": [
    "#Merge sat_2017_noPR with poverty_2017\n",
    "sat_unemploy_poverty = pd.merge(sat_2017_noPR, poverty_2017_new, left_index=True, right_index=True, suffixes=['_2017','_2018'])\n",
    "sat_unemploy_poverty.head(3)"
   ]
  },
  {
   "cell_type": "code",
   "execution_count": 61,
   "id": "ed05aa58-b8c3-4910-95c9-1e8e383dc4ff",
   "metadata": {},
   "outputs": [
    {
     "data": {
      "text/html": [
       "<div>\n",
       "<style scoped>\n",
       "    .dataframe tbody tr th:only-of-type {\n",
       "        vertical-align: middle;\n",
       "    }\n",
       "\n",
       "    .dataframe tbody tr th {\n",
       "        vertical-align: top;\n",
       "    }\n",
       "\n",
       "    .dataframe thead th {\n",
       "        text-align: right;\n",
       "    }\n",
       "</style>\n",
       "<table border=\"1\" class=\"dataframe\">\n",
       "  <thead>\n",
       "    <tr style=\"text-align: right;\">\n",
       "      <th></th>\n",
       "      <th>State_2017</th>\n",
       "      <th>Participation</th>\n",
       "      <th>Evidence-Based Reading and Writing</th>\n",
       "      <th>Math</th>\n",
       "      <th>Total</th>\n",
       "      <th>0</th>\n",
       "      <th>State_povery</th>\n",
       "      <th>Percent_poverty</th>\n",
       "      <th>State_2018</th>\n",
       "      <th>Percent_enrollment</th>\n",
       "    </tr>\n",
       "  </thead>\n",
       "  <tbody>\n",
       "    <tr>\n",
       "      <th>0</th>\n",
       "      <td>Alabama</td>\n",
       "      <td>5%</td>\n",
       "      <td>593</td>\n",
       "      <td>572</td>\n",
       "      <td>1165</td>\n",
       "      <td>5.8</td>\n",
       "      <td>Alabama</td>\n",
       "      <td>16.9</td>\n",
       "      <td>Alabama</td>\n",
       "      <td>21.7</td>\n",
       "    </tr>\n",
       "    <tr>\n",
       "      <th>1</th>\n",
       "      <td>Alaska</td>\n",
       "      <td>38%</td>\n",
       "      <td>547</td>\n",
       "      <td>533</td>\n",
       "      <td>1080</td>\n",
       "      <td>7.6</td>\n",
       "      <td>Alaska</td>\n",
       "      <td>11.1</td>\n",
       "      <td>Alaska</td>\n",
       "      <td>21.7</td>\n",
       "    </tr>\n",
       "    <tr>\n",
       "      <th>2</th>\n",
       "      <td>Arizona</td>\n",
       "      <td>30%</td>\n",
       "      <td>563</td>\n",
       "      <td>553</td>\n",
       "      <td>1116</td>\n",
       "      <td>5.8</td>\n",
       "      <td>Arizona</td>\n",
       "      <td>14.9</td>\n",
       "      <td>Arizona</td>\n",
       "      <td>21.8</td>\n",
       "    </tr>\n",
       "  </tbody>\n",
       "</table>\n",
       "</div>"
      ],
      "text/plain": [
       "  State_2017 Participation  Evidence-Based Reading and Writing  Math  Total  \\\n",
       "0    Alabama            5%                                 593   572   1165   \n",
       "1     Alaska           38%                                 547   533   1080   \n",
       "2    Arizona           30%                                 563   553   1116   \n",
       "\n",
       "     0 State_povery  Percent_poverty State_2018  Percent_enrollment  \n",
       "0  5.8      Alabama             16.9    Alabama                21.7  \n",
       "1  7.6       Alaska             11.1     Alaska                21.7  \n",
       "2  5.8      Arizona             14.9    Arizona                21.8  "
      ]
     },
     "execution_count": 61,
     "metadata": {},
     "output_type": "execute_result"
    }
   ],
   "source": [
    "#Merge sat_unemploy_poverty with enrollment_2017\n",
    "sat_unemploy_poverty_enroll_2017_columns = pd.merge(sat_unemploy_poverty, enrollment_2017, left_index=True, right_index=True, suffixes=['_2017','_2018'])\n",
    "sat_unemploy_poverty_enroll_2017_columns.head(3)"
   ]
  },
  {
   "cell_type": "code",
   "execution_count": 62,
   "id": "b689486f-3d71-477e-9f5f-7e86c5561eb2",
   "metadata": {},
   "outputs": [],
   "source": [
    "#created a dataframe with state name, sat data, and census data\n",
    "sat_unemploy_poverty_enroll_2017_columns = sat_unemploy_poverty_enroll_2017_columns[['State_2017','Participation','Math', 'Evidence-Based Reading and Writing', 'Total',0,'Percent_poverty','Percent_enrollment']].copy()"
   ]
  },
  {
   "cell_type": "code",
   "execution_count": 63,
   "id": "7904b0f5-6622-4241-8c5b-4b1c1b5ab816",
   "metadata": {},
   "outputs": [
    {
     "data": {
      "text/html": [
       "<div>\n",
       "<style scoped>\n",
       "    .dataframe tbody tr th:only-of-type {\n",
       "        vertical-align: middle;\n",
       "    }\n",
       "\n",
       "    .dataframe tbody tr th {\n",
       "        vertical-align: top;\n",
       "    }\n",
       "\n",
       "    .dataframe thead th {\n",
       "        text-align: right;\n",
       "    }\n",
       "</style>\n",
       "<table border=\"1\" class=\"dataframe\">\n",
       "  <thead>\n",
       "    <tr style=\"text-align: right;\">\n",
       "      <th></th>\n",
       "      <th>State_2017</th>\n",
       "      <th>Participation</th>\n",
       "      <th>Math</th>\n",
       "      <th>Evidence-Based Reading and Writing</th>\n",
       "      <th>Total</th>\n",
       "      <th>0</th>\n",
       "      <th>Percent_poverty</th>\n",
       "      <th>Percent_enrollment</th>\n",
       "    </tr>\n",
       "  </thead>\n",
       "  <tbody>\n",
       "    <tr>\n",
       "      <th>0</th>\n",
       "      <td>Alabama</td>\n",
       "      <td>5%</td>\n",
       "      <td>572</td>\n",
       "      <td>593</td>\n",
       "      <td>1165</td>\n",
       "      <td>5.8</td>\n",
       "      <td>16.9</td>\n",
       "      <td>21.7</td>\n",
       "    </tr>\n",
       "    <tr>\n",
       "      <th>1</th>\n",
       "      <td>Alaska</td>\n",
       "      <td>38%</td>\n",
       "      <td>533</td>\n",
       "      <td>547</td>\n",
       "      <td>1080</td>\n",
       "      <td>7.6</td>\n",
       "      <td>11.1</td>\n",
       "      <td>21.7</td>\n",
       "    </tr>\n",
       "    <tr>\n",
       "      <th>2</th>\n",
       "      <td>Arizona</td>\n",
       "      <td>30%</td>\n",
       "      <td>553</td>\n",
       "      <td>563</td>\n",
       "      <td>1116</td>\n",
       "      <td>5.8</td>\n",
       "      <td>14.9</td>\n",
       "      <td>21.8</td>\n",
       "    </tr>\n",
       "    <tr>\n",
       "      <th>3</th>\n",
       "      <td>Arkansas</td>\n",
       "      <td>3%</td>\n",
       "      <td>594</td>\n",
       "      <td>614</td>\n",
       "      <td>1208</td>\n",
       "      <td>5.6</td>\n",
       "      <td>16.4</td>\n",
       "      <td>21.7</td>\n",
       "    </tr>\n",
       "    <tr>\n",
       "      <th>4</th>\n",
       "      <td>California</td>\n",
       "      <td>53%</td>\n",
       "      <td>524</td>\n",
       "      <td>531</td>\n",
       "      <td>1055</td>\n",
       "      <td>5.9</td>\n",
       "      <td>13.3</td>\n",
       "      <td>20.4</td>\n",
       "    </tr>\n",
       "  </tbody>\n",
       "</table>\n",
       "</div>"
      ],
      "text/plain": [
       "   State_2017 Participation  Math  Evidence-Based Reading and Writing  Total  \\\n",
       "0     Alabama            5%   572                                 593   1165   \n",
       "1      Alaska           38%   533                                 547   1080   \n",
       "2     Arizona           30%   553                                 563   1116   \n",
       "3    Arkansas            3%   594                                 614   1208   \n",
       "4  California           53%   524                                 531   1055   \n",
       "\n",
       "     0  Percent_poverty  Percent_enrollment  \n",
       "0  5.8             16.9                21.7  \n",
       "1  7.6             11.1                21.7  \n",
       "2  5.8             14.9                21.8  \n",
       "3  5.6             16.4                21.7  \n",
       "4  5.9             13.3                20.4  "
      ]
     },
     "execution_count": 63,
     "metadata": {},
     "output_type": "execute_result"
    }
   ],
   "source": [
    "sat_unemploy_poverty_enroll_2017_columns.head()"
   ]
  },
  {
   "cell_type": "code",
   "execution_count": null,
   "id": "cdd15e7e-b7bc-4da7-8481-069850fd8083",
   "metadata": {},
   "outputs": [],
   "source": [
    "bunch of histograms, highest and lowest, correlations, "
   ]
  },
  {
   "cell_type": "code",
   "execution_count": null,
   "id": "0ad77793-ae05-4a36-934b-789b693d28dd",
   "metadata": {},
   "outputs": [],
   "source": [
    "#highest and lowest"
   ]
  },
  {
   "cell_type": "code",
   "execution_count": null,
   "id": "13584856-f267-4cff-9295-c8ec660bb3c4",
   "metadata": {},
   "outputs": [],
   "source": [
    "#correlation"
   ]
  },
  {
   "cell_type": "code",
   "execution_count": 64,
   "id": "4ceb736d-bc2f-4d28-81a1-91997e59caca",
   "metadata": {},
   "outputs": [
    {
     "data": {
      "image/png": "[encoded data removed]",
      "text/plain": [
       "<Figure size 1152x648 with 2 Axes>"
      ]
     },
     "metadata": {
      "needs_background": "light"
     },
     "output_type": "display_data"
    }
   ],
   "source": [
    "# This code is taken with minor modifications from https://seaborn.pydata.org/generated/seaborn.heatmap.html\n",
    "import matplotlib.pyplot as plt\n",
    "import seaborn as sns\n",
    "\n",
    "# Establish size of figure.\n",
    "plt.figure(figsize = (16,9))\n",
    "\n",
    "# Get correlation of variables.\n",
    "corr = sat_unemploy_poverty_enroll_2017_columns.corr()\n",
    "\n",
    "# Set up mask to be \"True\" in the upper triangle.\n",
    "mask = np.zeros_like(corr)\n",
    "mask[np.triu_indices_from(mask)] = True\n",
    "\n",
    "# Plot our correlation heatmap, while masking the upper triangle to be white.\n",
    "sns.heatmap(corr, mask = mask, square = True, cmap = 'mako', annot = True);"
   ]
  },
  {
   "cell_type": "markdown",
   "id": "613d7f23-b77d-4407-a48f-a5b8a634b97a",
   "metadata": {},
   "source": [
    "### Scatterplot"
   ]
  },
  {
   "cell_type": "code",
   "execution_count": null,
   "id": "46ef572a-2583-43fc-8665-ccfb76f6f3ba",
   "metadata": {},
   "outputs": [],
   "source": [
    "\n",
    "# Size\n",
    "plt.figure(figsize = (12, 5))\n",
    "\n",
    "plt.scatter(sat_unemploy_poverty_2017_columns['Percent_poverty'],\n",
    "            sat_unemploy_poverty_2017_columns['0'])\n",
    "\n",
    "# Create a descriptive title\n",
    "plt.title('Percent_poverty vs. Unemployment')\n",
    "# Add axis labels\n",
    "plt.xlabel('Percent_poverty')\n",
    "plt.ylabel('Unemployment');"
   ]
  },
  {
   "cell_type": "code",
   "execution_count": null,
   "id": "32b53f31-2d72-47f0-8026-a2d7a5372f42",
   "metadata": {},
   "outputs": [],
   "source": [
    "\n",
    "# Size\n",
    "plt.figure(figsize = (12, 5))\n",
    "\n",
    "plt.scatter(sat_unemploy_poverty_2017_columns['0'],\n",
    "            sat_unemploy_poverty_2017_columns['Total_2017'])\n",
    "\n",
    "# Create a descriptive title\n",
    "plt.title('Percent_poverty vs. Total_2017')\n",
    "# Add axis labels\n",
    "plt.xlabel('0')\n",
    "plt.ylabel('Total_2017');"
   ]
  },
  {
   "cell_type": "code",
   "execution_count": null,
   "id": "5bca8445-90aa-4b80-adaa-78d03bfec079",
   "metadata": {},
   "outputs": [],
   "source": [
    "\n",
    "# Size\n",
    "plt.figure(figsize = (12, 5))\n",
    "\n",
    "plt.scatter(sat_unemploy_poverty_2017_columns['0'],\n",
    "            sat_unemploy_poverty_2017_columns['Math_2017'])\n",
    "\n",
    "# Create a descriptive title\n",
    "plt.title('Percent_poverty vs. Total_2017')\n",
    "# Add axis labels\n",
    "plt.xlabel('0')\n",
    "plt.ylabel('Math_2017');"
   ]
  },
  {
   "cell_type": "code",
   "execution_count": null,
   "id": "400a5d19-3f2e-43b6-b0b9-2ddcb22d8b00",
   "metadata": {},
   "outputs": [],
   "source": [
    "\n",
    "# Size\n",
    "plt.figure(figsize = (12, 5))\n",
    "\n",
    "plt.scatter(sat_unemploy_poverty_2017_columns['0'],\n",
    "            sat_unemploy_poverty_2017_columns['Evidence-Based Reading and Writing_2017'])\n",
    "\n",
    "# Create a descriptive title\n",
    "plt.title('Unemployment vs. Read/Writing_2017')\n",
    "# Add axis labels\n",
    "plt.xlabel('Unemployment')\n",
    "plt.ylabel('Read/Writing_2017');"
   ]
  },
  {
   "cell_type": "code",
   "execution_count": null,
   "id": "82659fcd-a259-4f69-bca9-f8fb796f4ab4",
   "metadata": {},
   "outputs": [],
   "source": [
    "sat_unemploy_poverty_enroll_2017_columns.head()"
   ]
  },
  {
   "cell_type": "code",
   "execution_count": null,
   "id": "fc629256-4798-4425-8e14-7e031ee0cc07",
   "metadata": {},
   "outputs": [],
   "source": [
    "\n",
    "# Size\n",
    "plt.figure(figsize = (12, 5))\n",
    "\n",
    "plt.scatter(sat_unemploy_poverty_enroll_2017_columns['Unemploy_2017'],\n",
    "            sat_unemploy_poverty_enroll_2017_columns['Total_2017'])\n",
    "\n",
    "# Create a descriptive title\n",
    "plt.title('2017 Unemployment vs. SAT 2017 Total score')\n",
    "# Add axis labels\n",
    "plt.xlabel('2017 Unemployment')\n",
    "plt.ylabel('SAT 2017 Total score');"
   ]
  },
  {
   "cell_type": "code",
   "execution_count": null,
   "id": "33f8aedc-bc56-4493-8bdc-00ebe33bc0cf",
   "metadata": {},
   "outputs": [],
   "source": [
    "sat_unemploy_poverty_enroll_2017_columns.head()"
   ]
  },
  {
   "cell_type": "code",
   "execution_count": null,
   "id": "a586677c-2652-431c-8b86-8fc2516d5ea0",
   "metadata": {},
   "outputs": [],
   "source": [
    "\n",
    "# Size\n",
    "plt.figure(figsize = (12, 5))\n",
    "\n",
    "# Plot it\n",
    "plt.hist(sat_unemploy_poverty_enroll_2017_columns['Unemploy_2017'], color = 'teal') # colors: https://matplotlib.org/3.1.0/gallery/color/named_colors.html\n",
    "\n",
    "# Create a descriptive title\n",
    "plt.title('Distribution of Unemployment 2017');\n",
    "# Do we need axis lables here?"
   ]
  },
  {
   "cell_type": "raw",
   "id": "e6eb47a2-3a1d-4540-b75e-939ead526bfa",
   "metadata": {},
   "source": [
    "sat_unemploy_poverty_enroll_2017_columns['Percent_enrollment_2017']"
   ]
  },
  {
   "cell_type": "code",
   "execution_count": null,
   "id": "ee47bee3-ba8b-46d5-b8ec-74a8b40587a6",
   "metadata": {},
   "outputs": [],
   "source": [
    "sat_unemploy_poverty_enroll_2017_columns['Percent_enrollment_2017'].sort_values()"
   ]
  },
  {
   "cell_type": "code",
   "execution_count": null,
   "id": "0a3c0a69-9baa-4a50-8dd7-b5b6c4126a48",
   "metadata": {},
   "outputs": [],
   "source": [
    "sat_unemploy_poverty_enroll_2017_columns.rename(columns={\n",
    "    'Evidence-Based Reading and Writing_2017': 'Read/Write_2017','0':'Unemploy_2017'\n",
    "}, inplace=True)"
   ]
  },
  {
   "cell_type": "code",
   "execution_count": null,
   "id": "118123ee-5561-48a4-9869-7e8d899fcc4d",
   "metadata": {},
   "outputs": [],
   "source": [
    "sat_unemploy_poverty_enroll_2017_columns.quantile([.25, .5, .75], axis = 0)"
   ]
  },
  {
   "cell_type": "code",
   "execution_count": null,
   "id": "aec0b699-6d17-46fc-94f7-07d406f58134",
   "metadata": {},
   "outputs": [],
   "source": [
    "sat_unemploy_poverty_enroll_2017_columns.describe()"
   ]
  },
  {
   "cell_type": "code",
   "execution_count": null,
   "id": "4fcf5e29-bdd2-41b8-9e33-a10a95a8a504",
   "metadata": {},
   "outputs": [],
   "source": []
  },
  {
   "cell_type": "code",
   "execution_count": null,
   "id": "ea5eae12-c12f-4ee9-8115-cf020a8dc0ab",
   "metadata": {},
   "outputs": [],
   "source": [
    "#rename new dataframe columns\n",
    "sat_unemploy_poverty_2017_columns.rename(columns={\n",
    "    'Evidence-Based Reading and Writing_2017': 'Read/Write_2017','0':'Unemploy_2017'\n",
    "}, inplace=True)"
   ]
  },
  {
   "cell_type": "code",
   "execution_count": null,
   "id": "f18b6aff-7148-4c53-b230-1dc075e4602a",
   "metadata": {},
   "outputs": [],
   "source": [
    "sat_unemploy_poverty_2017_columns_new.head(3)"
   ]
  },
  {
   "cell_type": "code",
   "execution_count": null,
   "id": "73f7e0b8-6829-4b38-878a-fd4411651e4f",
   "metadata": {},
   "outputs": [],
   "source": [
    "sat_unemploy_poverty_2017_columns_new = sat_unemploy_poverty_2017_columns"
   ]
  },
  {
   "cell_type": "code",
   "execution_count": null,
   "id": "ba2deaef-4ec4-4416-aa40-ed9bc8ac1fab",
   "metadata": {},
   "outputs": [],
   "source": [
    "sat_unemploy_poverty_2017_columns_new.head()"
   ]
  },
  {
   "cell_type": "code",
   "execution_count": null,
   "id": "84997c6a-3064-4b22-b083-469bb9c0ab46",
   "metadata": {},
   "outputs": [],
   "source": [
    "#function utilized for .map of Participation column\n",
    "\n",
    "def convert_percentage(num):\n",
    "    return int(num.replace('%', ''))"
   ]
  },
  {
   "cell_type": "code",
   "execution_count": null,
   "id": "85e34560-aa6d-47ef-8fc8-a5e26ad60964",
   "metadata": {},
   "outputs": [],
   "source": [
    "#Using .apply to create the Participation column in decimal format\n",
    "sat_unemploy_poverty_2017_columns_new['Participation_2017'] = sat_unemploy_poverty_2017_columns_new\n",
    "['Participation_2017'].map(convert_percentage)\n",
    "sat_unemploy_poverty_2017_columns_new.head()"
   ]
  },
  {
   "cell_type": "code",
   "execution_count": null,
   "id": "c3d8df61-2103-434f-9969-bf33bcfb5a3f",
   "metadata": {},
   "outputs": [],
   "source": [
    "sat_unemploy_poverty_2017_columns_new.drop('Participation_2017')"
   ]
  }
 ],
 "metadata": {
  "kernelspec": {
   "display_name": "Python 3",
   "language": "python",
   "name": "python3"
  },
  "language_info": {
   "codemirror_mode": {
    "name": "ipython",
    "version": 3
   },
   "file_extension": ".py",
   "mimetype": "text/x-python",
   "name": "python",
   "nbconvert_exporter": "python",
   "pygments_lexer": "ipython3",
   "version": "3.8.8"
  }
 },
 "nbformat": 4,
 "nbformat_minor": 5
}
